{
  "nbformat": 4,
  "nbformat_minor": 0,
  "metadata": {
    "colab": {
      "name": "Mélangeur son.ipynb",
      "provenance": [],
      "collapsed_sections": []
    },
    "kernelspec": {
      "name": "python3",
      "display_name": "Python 3"
    },
    "language_info": {
      "name": "python"
    }
  },
  "cells": [
    {
      "cell_type": "markdown",
      "metadata": {
        "id": "5E45FbrZk1HI"
      },
      "source": [
        "# Importation"
      ]
    },
    {
      "cell_type": "code",
      "metadata": {
        "id": "ExM0jbwkfVUO",
        "colab": {
          "base_uri": "https://localhost:8080/"
        },
        "outputId": "7e5b0403-51d6-4823-862c-a72f9dbd562c"
      },
      "source": [
        "!pip install pydub"
      ],
      "execution_count": null,
      "outputs": [
        {
          "output_type": "stream",
          "text": [
            "Requirement already satisfied: pydub in /usr/local/lib/python3.7/dist-packages (0.25.1)\n"
          ],
          "name": "stdout"
        }
      ]
    },
    {
      "cell_type": "code",
      "metadata": {
        "id": "1TzTixr7kQdF"
      },
      "source": [
        "from pydub import AudioSegment\n",
        "import random\n",
        "import os\n",
        "import pandas as pd\n",
        "import numpy as np"
      ],
      "execution_count": null,
      "outputs": []
    },
    {
      "cell_type": "markdown",
      "metadata": {
        "id": "pjnhO9eFjTs4"
      },
      "source": [
        "Le programme suivant permet de réequilibrer les volumes sonore en dB pour ne pas avoir le bruit naturelle trop fort ou trop faible par rapport au son à classifier."
      ]
    },
    {
      "cell_type": "code",
      "metadata": {
        "id": "r4YwqVG1DIRK"
      },
      "source": [
        "def match_target_amplitude(sound, target_dBFS):\n",
        "    change_in_dBFS = target_dBFS - sound.dBFS\n",
        "    return sound.apply_gain(change_in_dBFS)"
      ],
      "execution_count": null,
      "outputs": []
    },
    {
      "cell_type": "markdown",
      "metadata": {
        "id": "OYHtFocCjkLM"
      },
      "source": [
        "On import le drive où sont contenue les sons"
      ]
    },
    {
      "cell_type": "code",
      "metadata": {
        "colab": {
          "base_uri": "https://localhost:8080/"
        },
        "id": "PhMHDGwTENcG",
        "outputId": "39f87c0e-99a6-4a07-8982-c4ef0883c430"
      },
      "source": [
        "from google.colab import drive\n",
        "drive.mount('/content/drive')"
      ],
      "execution_count": null,
      "outputs": [
        {
          "output_type": "stream",
          "text": [
            "Mounted at /content/drive\n"
          ],
          "name": "stdout"
        }
      ]
    },
    {
      "cell_type": "code",
      "metadata": {
        "id": "Tukfcqx4E4gK"
      },
      "source": [
        "# Contient le chemiin de la base de données.\n",
        "PATH = \"drive/MyDrive/Projet Cassiopée/Programmes/Dataset/\""
      ],
      "execution_count": null,
      "outputs": []
    },
    {
      "cell_type": "code",
      "metadata": {
        "id": "OYmOylPlVrVt",
        "colab": {
          "base_uri": "https://localhost:8080/",
          "height": 295
        },
        "outputId": "4b6cc520-9c10-4895-f195-f48631c483c9"
      },
      "source": [
        "data = pd.read_csv(PATH + \"metadata/metadata.csv\", sep=\";\")\n",
        "data.head(5)"
      ],
      "execution_count": null,
      "outputs": [
        {
          "output_type": "execute_result",
          "data": {
            "text/html": [
              "<div>\n",
              "<style scoped>\n",
              "    .dataframe tbody tr th:only-of-type {\n",
              "        vertical-align: middle;\n",
              "    }\n",
              "\n",
              "    .dataframe tbody tr th {\n",
              "        vertical-align: top;\n",
              "    }\n",
              "\n",
              "    .dataframe thead th {\n",
              "        text-align: right;\n",
              "    }\n",
              "</style>\n",
              "<table border=\"1\" class=\"dataframe\">\n",
              "  <thead>\n",
              "    <tr style=\"text-align: right;\">\n",
              "      <th></th>\n",
              "      <th>filename</th>\n",
              "      <th>path</th>\n",
              "      <th>Coup par coups</th>\n",
              "      <th>Explosion</th>\n",
              "      <th>Gros calibre</th>\n",
              "      <th>Petit calibre</th>\n",
              "      <th>Rafale</th>\n",
              "      <th>Chenille</th>\n",
              "      <th>Bateau</th>\n",
              "      <th>Camion</th>\n",
              "      <th>Groupe éléctrogène</th>\n",
              "      <th>Moto</th>\n",
              "      <th>Quad</th>\n",
              "      <th>Voiture</th>\n",
              "      <th>Cris</th>\n",
              "      <th>Discussion calme</th>\n",
              "      <th>Enfant</th>\n",
              "      <th>Femme</th>\n",
              "      <th>Homme</th>\n",
              "    </tr>\n",
              "  </thead>\n",
              "  <tbody>\n",
              "    <tr>\n",
              "      <th>0</th>\n",
              "      <td>Compilation - bruitages _ sons de cris d'enfan...</td>\n",
              "      <td>Voix/Cris</td>\n",
              "      <td>0</td>\n",
              "      <td>0</td>\n",
              "      <td>0</td>\n",
              "      <td>0</td>\n",
              "      <td>0</td>\n",
              "      <td>0</td>\n",
              "      <td>0</td>\n",
              "      <td>0</td>\n",
              "      <td>0</td>\n",
              "      <td>0</td>\n",
              "      <td>0</td>\n",
              "      <td>0</td>\n",
              "      <td>1</td>\n",
              "      <td>0</td>\n",
              "      <td>1</td>\n",
              "      <td>0</td>\n",
              "      <td>0</td>\n",
              "    </tr>\n",
              "    <tr>\n",
              "      <th>1</th>\n",
              "      <td>Compilation - bruitages _ sons de cris d'enfan...</td>\n",
              "      <td>Voix/Cris</td>\n",
              "      <td>0</td>\n",
              "      <td>0</td>\n",
              "      <td>0</td>\n",
              "      <td>0</td>\n",
              "      <td>0</td>\n",
              "      <td>0</td>\n",
              "      <td>0</td>\n",
              "      <td>0</td>\n",
              "      <td>0</td>\n",
              "      <td>0</td>\n",
              "      <td>0</td>\n",
              "      <td>0</td>\n",
              "      <td>1</td>\n",
              "      <td>0</td>\n",
              "      <td>1</td>\n",
              "      <td>0</td>\n",
              "      <td>0</td>\n",
              "    </tr>\n",
              "    <tr>\n",
              "      <th>2</th>\n",
              "      <td>Compilation - bruitages _ sons de cris d'enfan...</td>\n",
              "      <td>Voix/Cris</td>\n",
              "      <td>0</td>\n",
              "      <td>0</td>\n",
              "      <td>0</td>\n",
              "      <td>0</td>\n",
              "      <td>0</td>\n",
              "      <td>0</td>\n",
              "      <td>0</td>\n",
              "      <td>0</td>\n",
              "      <td>0</td>\n",
              "      <td>0</td>\n",
              "      <td>0</td>\n",
              "      <td>0</td>\n",
              "      <td>1</td>\n",
              "      <td>0</td>\n",
              "      <td>1</td>\n",
              "      <td>0</td>\n",
              "      <td>0</td>\n",
              "    </tr>\n",
              "    <tr>\n",
              "      <th>3</th>\n",
              "      <td>Compilation - bruitages _ sons de cris d'enfan...</td>\n",
              "      <td>Voix/Cris</td>\n",
              "      <td>0</td>\n",
              "      <td>0</td>\n",
              "      <td>0</td>\n",
              "      <td>0</td>\n",
              "      <td>0</td>\n",
              "      <td>0</td>\n",
              "      <td>0</td>\n",
              "      <td>0</td>\n",
              "      <td>0</td>\n",
              "      <td>0</td>\n",
              "      <td>0</td>\n",
              "      <td>0</td>\n",
              "      <td>1</td>\n",
              "      <td>0</td>\n",
              "      <td>1</td>\n",
              "      <td>0</td>\n",
              "      <td>0</td>\n",
              "    </tr>\n",
              "    <tr>\n",
              "      <th>4</th>\n",
              "      <td>Compilation - bruitages _ sons de cris d'enfan...</td>\n",
              "      <td>Voix/Cris</td>\n",
              "      <td>0</td>\n",
              "      <td>0</td>\n",
              "      <td>0</td>\n",
              "      <td>0</td>\n",
              "      <td>0</td>\n",
              "      <td>0</td>\n",
              "      <td>0</td>\n",
              "      <td>0</td>\n",
              "      <td>0</td>\n",
              "      <td>0</td>\n",
              "      <td>0</td>\n",
              "      <td>0</td>\n",
              "      <td>1</td>\n",
              "      <td>0</td>\n",
              "      <td>1</td>\n",
              "      <td>0</td>\n",
              "      <td>0</td>\n",
              "    </tr>\n",
              "  </tbody>\n",
              "</table>\n",
              "</div>"
            ],
            "text/plain": [
              "                                            filename       path  ...  Femme  Homme\n",
              "0  Compilation - bruitages _ sons de cris d'enfan...  Voix/Cris  ...      0      0\n",
              "1  Compilation - bruitages _ sons de cris d'enfan...  Voix/Cris  ...      0      0\n",
              "2  Compilation - bruitages _ sons de cris d'enfan...  Voix/Cris  ...      0      0\n",
              "3  Compilation - bruitages _ sons de cris d'enfan...  Voix/Cris  ...      0      0\n",
              "4  Compilation - bruitages _ sons de cris d'enfan...  Voix/Cris  ...      0      0\n",
              "\n",
              "[5 rows x 19 columns]"
            ]
          },
          "metadata": {
            "tags": []
          },
          "execution_count": 9
        }
      ]
    },
    {
      "cell_type": "markdown",
      "metadata": {
        "id": "Zi8SmJfnk5-b"
      },
      "source": [
        "# Augmentation"
      ]
    },
    {
      "cell_type": "markdown",
      "metadata": {
        "id": "RA8vhKh9lM-B"
      },
      "source": [
        "Cette cellule permet de créer des bruit pour toute les classes dans liste_category, de créer nombre_de_bruit bruits pour chaque son de type nom_bruit. Par exemple ici pour chaque son de char deux bruits de pluie seront créer."
      ]
    },
    {
      "cell_type": "code",
      "metadata": {
        "id": "pr0ab3dPdx7y"
      },
      "source": [
        "liste_category = ['Chenille/Donnée']                        # La catégorie de son à modifier\n",
        "nom_bruit = \"rain\"                                          # La classe de bruit à créer\n",
        "nombre_de_bruit = 2                                         # Le nombre de bruit à créer pour chaque fichier son\n",
        "\n",
        "for category in liste_category:\n",
        "  liste_doc = np.array(data[['filename']][ data['category'] == category]).flatten()\n",
        "\n",
        "  for file_name in liste_doc:\n",
        "    for i in range(nombre_de_bruit):\n",
        "      sound1 = AudioSegment.from_file(PATH + 'sound/' + category + '/' + file_name)             # Le son original\n",
        "      sound1 = match_target_amplitude(sound1, -20.0)                                            # On réequilibre les niveau sonore pour que le son original ne soit pas trop fort\n",
        "\n",
        "      sound2 = AudioSegment.from_file(PATH + 'sound/' + nom_bruit + \"/\" + random.choice(os.listdir(PATH + \"sound/Bruit naturelle\" + nom_bruit + \"/\")))          # Le bruit\n",
        "      sound2 = match_target_amplitude(sound2, -18)                                                                                                              # On réequilibre les niveau sonore pour que le bruit ne soit pas trop fort\n",
        "\n",
        "      combined = sound1.overlay(sound2)                                                                                           # On combine les deux bruits\n",
        "      combined.export(PATH + 'sound/' + category + '/' + file_name[:-4] + nom_bruit + \"-\" + str(i), format='wav')                 # Le chemin ou doit être exporter le fichier combiné   "
      ],
      "execution_count": null,
      "outputs": []
    },
    {
      "cell_type": "markdown",
      "metadata": {
        "id": "h1sWPY29FKv8"
      },
      "source": [
        "Cette cellule fait exactement le même travail que la classe précédent sauf que le type de bruit n'est pas à choisir. Il est directement pris au hasard dan la liste des bruit disponible dans bruit naturelle."
      ]
    },
    {
      "cell_type": "code",
      "metadata": {
        "id": "DlDCrbSMFKJe"
      },
      "source": [
        "liste_category = ['Arme/Petit calibre/Donnée']                       # La catégorie de son à modifier\n",
        "nombre_de_classe = 1\n",
        "\n",
        "for category in liste_category:\n",
        "  liste_doc = np.array(data[['filename']][ data['path'] == category]).flatten()\n",
        "\n",
        "  for file_name in liste_doc:\n",
        "    for i in range(nombre_de_classe):\n",
        "      sound1 = AudioSegment.from_file(PATH + 'sound/' + category + '/' + file_name)             # Le son original\n",
        "      sound1 = match_target_amplitude(sound1, -20.0)                                            # On réequilibre les niveau sonore pour que le son original ne soit pas trop fort\n",
        "\n",
        "      nom_bruit = random.choice(os.listdir(PATH + \"sound/Bruit naturelle/\"))                   # Bruit pris au hasard\n",
        "      sound2 = AudioSegment.from_file(PATH + 'sound/Bruit naturelle/' + nom_bruit + \"/\" + random.choice(os.listdir(PATH + \"sound/Bruit naturelle/\" + nom_bruit + \"/\")))         #Le bruit\n",
        "      sound2 = match_target_amplitude(sound2, -18)                                                                                                                              # On réequilibre les niveau sonore pour que le bruit ne soit pas trop fort\n",
        "\n",
        "      combined = sound1.overlay(sound2)                                                                                                                       # On combine les deux bruits\n",
        "      combined.export(PATH + 'sound/Arme/Petit calibre/Augmentation/' + file_name[:-4] + \"-\" + nom_bruit + \"-\" + str(i) + \".wav\", format='wav')               # Le chemin ou doit être exporter le fichier combiné   "
      ],
      "execution_count": null,
      "outputs": []
    }
  ]
}